{
 "metadata": {
  "name": ""
 },
 "nbformat": 3,
 "nbformat_minor": 0,
 "worksheets": [
  {
   "cells": [
    {
     "cell_type": "code",
     "collapsed": false,
     "input": [
      "import socket\n",
      "import requests\n",
      "import httplib\n",
      "from ipInfo import *\n",
      "import HTTP"
     ],
     "language": "python",
     "metadata": {},
     "outputs": [
      {
       "output_type": "stream",
       "stream": "stderr",
       "text": [
        "WARNING: No route found for IPv6 destination :: (no default route?)\n"
       ]
      },
      {
       "output_type": "stream",
       "stream": "stderr",
       "text": [
        "WARNING:scapy.runtime:No route found for IPv6 destination :: (no default route?)\n"
       ]
      }
     ],
     "prompt_number": 1
    },
    {
     "cell_type": "code",
     "collapsed": false,
     "input": [
      "s = socket.socket(socket.AF_INET, socket.SOCK_STREAM)\n",
      "s.bind((myIp, 80))\n",
      "s.listen(5)"
     ],
     "language": "python",
     "metadata": {},
     "outputs": [],
     "prompt_number": 2
    },
    {
     "cell_type": "code",
     "collapsed": false,
     "input": [
      "def repeatRequest(rawRequest):\n",
      "    firstline, headers, body = HTTP._parse_headers(rawRequest)\n",
      "    method, path, httpVersion = re.split(\"\\s+\",firstline)\n",
      "    conn = httplib.HTTPConnection(headers[\"host\"],80)\n",
      "    conn.putrequest(method,path,skip_host=True,skip_accept_encoding=True)\n",
      "    conn.putheader(k,v) for k, v in headers.iteritems()\n",
      "    conn.endheaders()\n",
      "    return conn.getresponse()"
     ],
     "language": "python",
     "metadata": {},
     "outputs": [],
     "prompt_number": 3
    },
    {
     "cell_type": "code",
     "collapsed": false,
     "input": [
      "def makeTheInternetBetter(response):\n",
      "    headers = ''.join('%s: %s\\n' % (k,v) for k,v in response.headers.iteritems())\n",
      "    betterResponse = 'HTTP/1.1 200 OK\\n' + headers\n",
      "    betterResponse += headers + '\\n'\n",
      "    betterResponse = response.text\n",
      "    return betterResponse"
     ],
     "language": "python",
     "metadata": {},
     "outputs": []
    },
    {
     "cell_type": "code",
     "collapsed": false,
     "input": [
      "while 1:\n",
      "    conn, addr = s.accept()\n",
      "    data = conn.recv(1024)\n",
      "    if not data: break\n",
      "    response = repeatRequest(data)\n",
      "    #betterRawResponse = makeTheInternetBetter(response)\n",
      "    #conn.send(betterRawResponse.encode('utf-8'))\n",
      "    conn.close()\n",
      "conn.close()"
     ],
     "language": "python",
     "metadata": {},
     "outputs": [],
     "prompt_number": "*"
    },
    {
     "cell_type": "code",
     "collapsed": false,
     "input": [],
     "language": "python",
     "metadata": {},
     "outputs": []
    }
   ],
   "metadata": {}
  }
 ]
}