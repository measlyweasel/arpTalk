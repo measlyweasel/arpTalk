{
 "metadata": {
  "name": ""
 },
 "nbformat": 3,
 "nbformat_minor": 0,
 "worksheets": [
  {
   "cells": [
    {
     "cell_type": "code",
     "collapsed": false,
     "input": [
      "##An Example of using scapy for sniffing\n",
      "from scapy.all import *\n",
      "sniff(iface=interface, prn=lambda x: x.show(), filter='tcp',count=1)"
     ],
     "language": "python",
     "metadata": {},
     "outputs": [
      {
       "output_type": "stream",
       "stream": "stdout",
       "text": [
        "###[ Ethernet ]###\n",
        "  dst       = 58:6d:8f:08:78:c9\n",
        "  src       = ba:db:ee:f1:23:45\n",
        "  type      = 0x800\n",
        "###[ IP ]###\n",
        "     version   = 4L\n",
        "     ihl       = 5L\n",
        "     tos       = 0x0\n",
        "     len       = 89\n",
        "     id        = 13954\n",
        "     flags     = DF\n",
        "     frag      = 0L\n",
        "     ttl       = 64\n",
        "     proto     = tcp\n",
        "     chksum    = 0x210d\n",
        "     src       = 192.168.1.132\n",
        "     dst       = 173.194.115.33\n",
        "     \\options   \\\n",
        "###[ TCP ]###\n",
        "        sport     = 49181\n",
        "        dport     = https\n",
        "        seq       = 960262771\n",
        "        ack       = 3217359725\n",
        "        dataofs   = 8L\n",
        "        reserved  = 0L\n",
        "        flags     = PA\n",
        "        window    = 318\n",
        "        chksum    = 0xe35b\n",
        "        urgptr    = 0\n",
        "        options   = [('NOP', None), ('NOP', None), ('Timestamp', (586143, 2052748325))]\n",
        "###[ Raw ]###\n",
        "           load      = \"\\x17\\x03\\x01\\x00 x\\x89\\xd2\\x07X#\\x8e\\xa0\\xd4\\x9b\\x98-5M\\xdb\\xe2>\\xdd\\x8c\\xa6[H\\xf29\\x0cn$\\xe7\\xa6\\x8f'\\xdb\"\n"
       ]
      },
      {
       "metadata": {},
       "output_type": "pyout",
       "prompt_number": 13,
       "text": [
        "<Sniffed: TCP:1 UDP:0 ICMP:0 Other:0>"
       ]
      }
     ],
     "prompt_number": 13
    },
    {
     "cell_type": "code",
     "collapsed": false,
     "input": [],
     "language": "python",
     "metadata": {},
     "outputs": []
    }
   ],
   "metadata": {}
  }
 ]
}