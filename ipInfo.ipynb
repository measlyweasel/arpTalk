{
 "metadata": {
  "name": ""
 },
 "nbformat": 3,
 "nbformat_minor": 0,
 "worksheets": [
  {
   "cells": [
    {
     "cell_type": "code",
     "collapsed": false,
     "input": [
      "from scapy.all import *\n",
      "import socket\n",
      "import netifaces\n",
      "\n",
      "interface = 'eth0'\n",
      "victimIp = '192.168.1.133'\n",
      "\n",
      "def isMyRoute(x):\n",
      "\treturn x[3] == interface and x[2] != '0.0.0.0'\n",
      "\n",
      "ips = { \n",
      "\t'interface': interface,\n",
      "\t'routerIp': [x[2] for x in scapy.all.conf.route.routes if isMyRoute(x)][0],\n",
      "\t'myIp': netifaces.ifaddresses(interface)[socket.AF_INET][0][\"addr\"],\n",
      "\t'victimIp': victimIp\n",
      "}\n",
      "\n",
      "routerIp = ips['routerIp']\n",
      "myIp=ips['myIp']\n",
      "\n",
      "def printIpInfo():\t\n",
      "\tfor key,value in ips.iteritems():\n",
      "\t\tprint '{0:10}: {1:20}'.format(key, value)"
     ],
     "language": "python",
     "metadata": {},
     "outputs": []
    }
   ],
   "metadata": {}
  }
 ]
}